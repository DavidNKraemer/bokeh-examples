{
 "cells": [
  {
   "cell_type": "code",
   "execution_count": 1,
   "metadata": {},
   "outputs": [],
   "source": [
    "import numpy as np\n",
    "from bokeh.plotting import figure, output_file, show\n",
    "\n",
    "from bokeh.io import output_notebook"
   ]
  },
  {
   "cell_type": "code",
   "execution_count": 2,
   "metadata": {},
   "outputs": [
    {
     "data": {
      "text/html": [
       "\n",
       "    <div class=\"bk-root\">\n",
       "        <a href=\"https://bokeh.pydata.org\" target=\"_blank\" class=\"bk-logo bk-logo-small bk-logo-notebook\"></a>\n",
       "        <span id=\"1001\">Loading BokehJS ...</span>\n",
       "    </div>"
      ]
     },
     "metadata": {},
     "output_type": "display_data"
    },
    {
     "data": {
      "application/javascript": [
       "\n",
       "(function(root) {\n",
       "  function now() {\n",
       "    return new Date();\n",
       "  }\n",
       "\n",
       "  var force = true;\n",
       "\n",
       "  if (typeof (root._bokeh_onload_callbacks) === \"undefined\" || force === true) {\n",
       "    root._bokeh_onload_callbacks = [];\n",
       "    root._bokeh_is_loading = undefined;\n",
       "  }\n",
       "\n",
       "  var JS_MIME_TYPE = 'application/javascript';\n",
       "  var HTML_MIME_TYPE = 'text/html';\n",
       "  var EXEC_MIME_TYPE = 'application/vnd.bokehjs_exec.v0+json';\n",
       "  var CLASS_NAME = 'output_bokeh rendered_html';\n",
       "\n",
       "  /**\n",
       "   * Render data to the DOM node\n",
       "   */\n",
       "  function render(props, node) {\n",
       "    var script = document.createElement(\"script\");\n",
       "    node.appendChild(script);\n",
       "  }\n",
       "\n",
       "  /**\n",
       "   * Handle when an output is cleared or removed\n",
       "   */\n",
       "  function handleClearOutput(event, handle) {\n",
       "    var cell = handle.cell;\n",
       "\n",
       "    var id = cell.output_area._bokeh_element_id;\n",
       "    var server_id = cell.output_area._bokeh_server_id;\n",
       "    // Clean up Bokeh references\n",
       "    if (id != null && id in Bokeh.index) {\n",
       "      Bokeh.index[id].model.document.clear();\n",
       "      delete Bokeh.index[id];\n",
       "    }\n",
       "\n",
       "    if (server_id !== undefined) {\n",
       "      // Clean up Bokeh references\n",
       "      var cmd = \"from bokeh.io.state import curstate; print(curstate().uuid_to_server['\" + server_id + \"'].get_sessions()[0].document.roots[0]._id)\";\n",
       "      cell.notebook.kernel.execute(cmd, {\n",
       "        iopub: {\n",
       "          output: function(msg) {\n",
       "            var id = msg.content.text.trim();\n",
       "            if (id in Bokeh.index) {\n",
       "              Bokeh.index[id].model.document.clear();\n",
       "              delete Bokeh.index[id];\n",
       "            }\n",
       "          }\n",
       "        }\n",
       "      });\n",
       "      // Destroy server and session\n",
       "      var cmd = \"import bokeh.io.notebook as ion; ion.destroy_server('\" + server_id + \"')\";\n",
       "      cell.notebook.kernel.execute(cmd);\n",
       "    }\n",
       "  }\n",
       "\n",
       "  /**\n",
       "   * Handle when a new output is added\n",
       "   */\n",
       "  function handleAddOutput(event, handle) {\n",
       "    var output_area = handle.output_area;\n",
       "    var output = handle.output;\n",
       "\n",
       "    // limit handleAddOutput to display_data with EXEC_MIME_TYPE content only\n",
       "    if ((output.output_type != \"display_data\") || (!output.data.hasOwnProperty(EXEC_MIME_TYPE))) {\n",
       "      return\n",
       "    }\n",
       "\n",
       "    var toinsert = output_area.element.find(\".\" + CLASS_NAME.split(' ')[0]);\n",
       "\n",
       "    if (output.metadata[EXEC_MIME_TYPE][\"id\"] !== undefined) {\n",
       "      toinsert[toinsert.length - 1].firstChild.textContent = output.data[JS_MIME_TYPE];\n",
       "      // store reference to embed id on output_area\n",
       "      output_area._bokeh_element_id = output.metadata[EXEC_MIME_TYPE][\"id\"];\n",
       "    }\n",
       "    if (output.metadata[EXEC_MIME_TYPE][\"server_id\"] !== undefined) {\n",
       "      var bk_div = document.createElement(\"div\");\n",
       "      bk_div.innerHTML = output.data[HTML_MIME_TYPE];\n",
       "      var script_attrs = bk_div.children[0].attributes;\n",
       "      for (var i = 0; i < script_attrs.length; i++) {\n",
       "        toinsert[toinsert.length - 1].firstChild.setAttribute(script_attrs[i].name, script_attrs[i].value);\n",
       "      }\n",
       "      // store reference to server id on output_area\n",
       "      output_area._bokeh_server_id = output.metadata[EXEC_MIME_TYPE][\"server_id\"];\n",
       "    }\n",
       "  }\n",
       "\n",
       "  function register_renderer(events, OutputArea) {\n",
       "\n",
       "    function append_mime(data, metadata, element) {\n",
       "      // create a DOM node to render to\n",
       "      var toinsert = this.create_output_subarea(\n",
       "        metadata,\n",
       "        CLASS_NAME,\n",
       "        EXEC_MIME_TYPE\n",
       "      );\n",
       "      this.keyboard_manager.register_events(toinsert);\n",
       "      // Render to node\n",
       "      var props = {data: data, metadata: metadata[EXEC_MIME_TYPE]};\n",
       "      render(props, toinsert[toinsert.length - 1]);\n",
       "      element.append(toinsert);\n",
       "      return toinsert\n",
       "    }\n",
       "\n",
       "    /* Handle when an output is cleared or removed */\n",
       "    events.on('clear_output.CodeCell', handleClearOutput);\n",
       "    events.on('delete.Cell', handleClearOutput);\n",
       "\n",
       "    /* Handle when a new output is added */\n",
       "    events.on('output_added.OutputArea', handleAddOutput);\n",
       "\n",
       "    /**\n",
       "     * Register the mime type and append_mime function with output_area\n",
       "     */\n",
       "    OutputArea.prototype.register_mime_type(EXEC_MIME_TYPE, append_mime, {\n",
       "      /* Is output safe? */\n",
       "      safe: true,\n",
       "      /* Index of renderer in `output_area.display_order` */\n",
       "      index: 0\n",
       "    });\n",
       "  }\n",
       "\n",
       "  // register the mime type if in Jupyter Notebook environment and previously unregistered\n",
       "  if (root.Jupyter !== undefined) {\n",
       "    var events = require('base/js/events');\n",
       "    var OutputArea = require('notebook/js/outputarea').OutputArea;\n",
       "\n",
       "    if (OutputArea.prototype.mime_types().indexOf(EXEC_MIME_TYPE) == -1) {\n",
       "      register_renderer(events, OutputArea);\n",
       "    }\n",
       "  }\n",
       "\n",
       "  \n",
       "  if (typeof (root._bokeh_timeout) === \"undefined\" || force === true) {\n",
       "    root._bokeh_timeout = Date.now() + 5000;\n",
       "    root._bokeh_failed_load = false;\n",
       "  }\n",
       "\n",
       "  var NB_LOAD_WARNING = {'data': {'text/html':\n",
       "     \"<div style='background-color: #fdd'>\\n\"+\n",
       "     \"<p>\\n\"+\n",
       "     \"BokehJS does not appear to have successfully loaded. If loading BokehJS from CDN, this \\n\"+\n",
       "     \"may be due to a slow or bad network connection. Possible fixes:\\n\"+\n",
       "     \"</p>\\n\"+\n",
       "     \"<ul>\\n\"+\n",
       "     \"<li>re-rerun `output_notebook()` to attempt to load from CDN again, or</li>\\n\"+\n",
       "     \"<li>use INLINE resources instead, as so:</li>\\n\"+\n",
       "     \"</ul>\\n\"+\n",
       "     \"<code>\\n\"+\n",
       "     \"from bokeh.resources import INLINE\\n\"+\n",
       "     \"output_notebook(resources=INLINE)\\n\"+\n",
       "     \"</code>\\n\"+\n",
       "     \"</div>\"}};\n",
       "\n",
       "  function display_loaded() {\n",
       "    var el = document.getElementById(\"1001\");\n",
       "    if (el != null) {\n",
       "      el.textContent = \"BokehJS is loading...\";\n",
       "    }\n",
       "    if (root.Bokeh !== undefined) {\n",
       "      if (el != null) {\n",
       "        el.textContent = \"BokehJS \" + root.Bokeh.version + \" successfully loaded.\";\n",
       "      }\n",
       "    } else if (Date.now() < root._bokeh_timeout) {\n",
       "      setTimeout(display_loaded, 100)\n",
       "    }\n",
       "  }\n",
       "\n",
       "\n",
       "  function run_callbacks() {\n",
       "    try {\n",
       "      root._bokeh_onload_callbacks.forEach(function(callback) { callback() });\n",
       "    }\n",
       "    finally {\n",
       "      delete root._bokeh_onload_callbacks\n",
       "    }\n",
       "    console.info(\"Bokeh: all callbacks have finished\");\n",
       "  }\n",
       "\n",
       "  function load_libs(js_urls, callback) {\n",
       "    root._bokeh_onload_callbacks.push(callback);\n",
       "    if (root._bokeh_is_loading > 0) {\n",
       "      console.log(\"Bokeh: BokehJS is being loaded, scheduling callback at\", now());\n",
       "      return null;\n",
       "    }\n",
       "    if (js_urls == null || js_urls.length === 0) {\n",
       "      run_callbacks();\n",
       "      return null;\n",
       "    }\n",
       "    console.log(\"Bokeh: BokehJS not loaded, scheduling load and callback at\", now());\n",
       "    root._bokeh_is_loading = js_urls.length;\n",
       "    for (var i = 0; i < js_urls.length; i++) {\n",
       "      var url = js_urls[i];\n",
       "      var s = document.createElement('script');\n",
       "      s.src = url;\n",
       "      s.async = false;\n",
       "      s.onreadystatechange = s.onload = function() {\n",
       "        root._bokeh_is_loading--;\n",
       "        if (root._bokeh_is_loading === 0) {\n",
       "          console.log(\"Bokeh: all BokehJS libraries loaded\");\n",
       "          run_callbacks()\n",
       "        }\n",
       "      };\n",
       "      s.onerror = function() {\n",
       "        console.warn(\"failed to load library \" + url);\n",
       "      };\n",
       "      console.log(\"Bokeh: injecting script tag for BokehJS library: \", url);\n",
       "      document.getElementsByTagName(\"head\")[0].appendChild(s);\n",
       "    }\n",
       "  };var element = document.getElementById(\"1001\");\n",
       "  if (element == null) {\n",
       "    console.log(\"Bokeh: ERROR: autoload.js configured with elementid '1001' but no matching script tag was found. \")\n",
       "    return false;\n",
       "  }\n",
       "\n",
       "  var js_urls = [\"https://cdn.pydata.org/bokeh/release/bokeh-1.0.2.min.js\", \"https://cdn.pydata.org/bokeh/release/bokeh-widgets-1.0.2.min.js\", \"https://cdn.pydata.org/bokeh/release/bokeh-tables-1.0.2.min.js\", \"https://cdn.pydata.org/bokeh/release/bokeh-gl-1.0.2.min.js\"];\n",
       "\n",
       "  var inline_js = [\n",
       "    function(Bokeh) {\n",
       "      Bokeh.set_log_level(\"info\");\n",
       "    },\n",
       "    \n",
       "    function(Bokeh) {\n",
       "      \n",
       "    },\n",
       "    function(Bokeh) {\n",
       "      console.log(\"Bokeh: injecting CSS: https://cdn.pydata.org/bokeh/release/bokeh-1.0.2.min.css\");\n",
       "      Bokeh.embed.inject_css(\"https://cdn.pydata.org/bokeh/release/bokeh-1.0.2.min.css\");\n",
       "      console.log(\"Bokeh: injecting CSS: https://cdn.pydata.org/bokeh/release/bokeh-widgets-1.0.2.min.css\");\n",
       "      Bokeh.embed.inject_css(\"https://cdn.pydata.org/bokeh/release/bokeh-widgets-1.0.2.min.css\");\n",
       "      console.log(\"Bokeh: injecting CSS: https://cdn.pydata.org/bokeh/release/bokeh-tables-1.0.2.min.css\");\n",
       "      Bokeh.embed.inject_css(\"https://cdn.pydata.org/bokeh/release/bokeh-tables-1.0.2.min.css\");\n",
       "    }\n",
       "  ];\n",
       "\n",
       "  function run_inline_js() {\n",
       "    \n",
       "    if ((root.Bokeh !== undefined) || (force === true)) {\n",
       "      for (var i = 0; i < inline_js.length; i++) {\n",
       "        inline_js[i].call(root, root.Bokeh);\n",
       "      }if (force === true) {\n",
       "        display_loaded();\n",
       "      }} else if (Date.now() < root._bokeh_timeout) {\n",
       "      setTimeout(run_inline_js, 100);\n",
       "    } else if (!root._bokeh_failed_load) {\n",
       "      console.log(\"Bokeh: BokehJS failed to load within specified timeout.\");\n",
       "      root._bokeh_failed_load = true;\n",
       "    } else if (force !== true) {\n",
       "      var cell = $(document.getElementById(\"1001\")).parents('.cell').data().cell;\n",
       "      cell.output_area.append_execute_result(NB_LOAD_WARNING)\n",
       "    }\n",
       "\n",
       "  }\n",
       "\n",
       "  if (root._bokeh_is_loading === 0) {\n",
       "    console.log(\"Bokeh: BokehJS loaded, going straight to plotting\");\n",
       "    run_inline_js();\n",
       "  } else {\n",
       "    load_libs(js_urls, function() {\n",
       "      console.log(\"Bokeh: BokehJS plotting callback run at\", now());\n",
       "      run_inline_js();\n",
       "    });\n",
       "  }\n",
       "}(window));"
      ],
      "application/vnd.bokehjs_load.v0+json": "\n(function(root) {\n  function now() {\n    return new Date();\n  }\n\n  var force = true;\n\n  if (typeof (root._bokeh_onload_callbacks) === \"undefined\" || force === true) {\n    root._bokeh_onload_callbacks = [];\n    root._bokeh_is_loading = undefined;\n  }\n\n  \n\n  \n  if (typeof (root._bokeh_timeout) === \"undefined\" || force === true) {\n    root._bokeh_timeout = Date.now() + 5000;\n    root._bokeh_failed_load = false;\n  }\n\n  var NB_LOAD_WARNING = {'data': {'text/html':\n     \"<div style='background-color: #fdd'>\\n\"+\n     \"<p>\\n\"+\n     \"BokehJS does not appear to have successfully loaded. If loading BokehJS from CDN, this \\n\"+\n     \"may be due to a slow or bad network connection. Possible fixes:\\n\"+\n     \"</p>\\n\"+\n     \"<ul>\\n\"+\n     \"<li>re-rerun `output_notebook()` to attempt to load from CDN again, or</li>\\n\"+\n     \"<li>use INLINE resources instead, as so:</li>\\n\"+\n     \"</ul>\\n\"+\n     \"<code>\\n\"+\n     \"from bokeh.resources import INLINE\\n\"+\n     \"output_notebook(resources=INLINE)\\n\"+\n     \"</code>\\n\"+\n     \"</div>\"}};\n\n  function display_loaded() {\n    var el = document.getElementById(\"1001\");\n    if (el != null) {\n      el.textContent = \"BokehJS is loading...\";\n    }\n    if (root.Bokeh !== undefined) {\n      if (el != null) {\n        el.textContent = \"BokehJS \" + root.Bokeh.version + \" successfully loaded.\";\n      }\n    } else if (Date.now() < root._bokeh_timeout) {\n      setTimeout(display_loaded, 100)\n    }\n  }\n\n\n  function run_callbacks() {\n    try {\n      root._bokeh_onload_callbacks.forEach(function(callback) { callback() });\n    }\n    finally {\n      delete root._bokeh_onload_callbacks\n    }\n    console.info(\"Bokeh: all callbacks have finished\");\n  }\n\n  function load_libs(js_urls, callback) {\n    root._bokeh_onload_callbacks.push(callback);\n    if (root._bokeh_is_loading > 0) {\n      console.log(\"Bokeh: BokehJS is being loaded, scheduling callback at\", now());\n      return null;\n    }\n    if (js_urls == null || js_urls.length === 0) {\n      run_callbacks();\n      return null;\n    }\n    console.log(\"Bokeh: BokehJS not loaded, scheduling load and callback at\", now());\n    root._bokeh_is_loading = js_urls.length;\n    for (var i = 0; i < js_urls.length; i++) {\n      var url = js_urls[i];\n      var s = document.createElement('script');\n      s.src = url;\n      s.async = false;\n      s.onreadystatechange = s.onload = function() {\n        root._bokeh_is_loading--;\n        if (root._bokeh_is_loading === 0) {\n          console.log(\"Bokeh: all BokehJS libraries loaded\");\n          run_callbacks()\n        }\n      };\n      s.onerror = function() {\n        console.warn(\"failed to load library \" + url);\n      };\n      console.log(\"Bokeh: injecting script tag for BokehJS library: \", url);\n      document.getElementsByTagName(\"head\")[0].appendChild(s);\n    }\n  };var element = document.getElementById(\"1001\");\n  if (element == null) {\n    console.log(\"Bokeh: ERROR: autoload.js configured with elementid '1001' but no matching script tag was found. \")\n    return false;\n  }\n\n  var js_urls = [\"https://cdn.pydata.org/bokeh/release/bokeh-1.0.2.min.js\", \"https://cdn.pydata.org/bokeh/release/bokeh-widgets-1.0.2.min.js\", \"https://cdn.pydata.org/bokeh/release/bokeh-tables-1.0.2.min.js\", \"https://cdn.pydata.org/bokeh/release/bokeh-gl-1.0.2.min.js\"];\n\n  var inline_js = [\n    function(Bokeh) {\n      Bokeh.set_log_level(\"info\");\n    },\n    \n    function(Bokeh) {\n      \n    },\n    function(Bokeh) {\n      console.log(\"Bokeh: injecting CSS: https://cdn.pydata.org/bokeh/release/bokeh-1.0.2.min.css\");\n      Bokeh.embed.inject_css(\"https://cdn.pydata.org/bokeh/release/bokeh-1.0.2.min.css\");\n      console.log(\"Bokeh: injecting CSS: https://cdn.pydata.org/bokeh/release/bokeh-widgets-1.0.2.min.css\");\n      Bokeh.embed.inject_css(\"https://cdn.pydata.org/bokeh/release/bokeh-widgets-1.0.2.min.css\");\n      console.log(\"Bokeh: injecting CSS: https://cdn.pydata.org/bokeh/release/bokeh-tables-1.0.2.min.css\");\n      Bokeh.embed.inject_css(\"https://cdn.pydata.org/bokeh/release/bokeh-tables-1.0.2.min.css\");\n    }\n  ];\n\n  function run_inline_js() {\n    \n    if ((root.Bokeh !== undefined) || (force === true)) {\n      for (var i = 0; i < inline_js.length; i++) {\n        inline_js[i].call(root, root.Bokeh);\n      }if (force === true) {\n        display_loaded();\n      }} else if (Date.now() < root._bokeh_timeout) {\n      setTimeout(run_inline_js, 100);\n    } else if (!root._bokeh_failed_load) {\n      console.log(\"Bokeh: BokehJS failed to load within specified timeout.\");\n      root._bokeh_failed_load = true;\n    } else if (force !== true) {\n      var cell = $(document.getElementById(\"1001\")).parents('.cell').data().cell;\n      cell.output_area.append_execute_result(NB_LOAD_WARNING)\n    }\n\n  }\n\n  if (root._bokeh_is_loading === 0) {\n    console.log(\"Bokeh: BokehJS loaded, going straight to plotting\");\n    run_inline_js();\n  } else {\n    load_libs(js_urls, function() {\n      console.log(\"Bokeh: BokehJS plotting callback run at\", now());\n      run_inline_js();\n    });\n  }\n}(window));"
     },
     "metadata": {},
     "output_type": "display_data"
    }
   ],
   "source": [
    "output_notebook()"
   ]
  },
  {
   "cell_type": "markdown",
   "metadata": {},
   "source": [
    "# Plot a function"
   ]
  },
  {
   "cell_type": "code",
   "execution_count": 3,
   "metadata": {},
   "outputs": [
    {
     "data": {
      "text/html": [
       "\n",
       "\n",
       "\n",
       "\n",
       "\n",
       "\n",
       "  <div class=\"bk-root\" id=\"40c14ac7-c893-4637-b2e4-bf1b75e05aec\"></div>\n"
      ]
     },
     "metadata": {},
     "output_type": "display_data"
    },
    {
     "data": {
      "application/javascript": [
       "(function(root) {\n",
       "  function embed_document(root) {\n",
       "    \n",
       "  var docs_json = {\"44eafd4f-763d-4804-82e1-427f0e146933\":{\"roots\":{\"references\":[{\"attributes\":{\"below\":[{\"id\":\"1011\",\"type\":\"LinearAxis\"}],\"left\":[{\"id\":\"1016\",\"type\":\"LinearAxis\"}],\"renderers\":[{\"id\":\"1011\",\"type\":\"LinearAxis\"},{\"id\":\"1015\",\"type\":\"Grid\"},{\"id\":\"1016\",\"type\":\"LinearAxis\"},{\"id\":\"1020\",\"type\":\"Grid\"},{\"id\":\"1029\",\"type\":\"BoxAnnotation\"},{\"id\":\"1039\",\"type\":\"GlyphRenderer\"}],\"title\":{\"id\":\"1041\",\"type\":\"Title\"},\"toolbar\":{\"id\":\"1027\",\"type\":\"Toolbar\"},\"x_range\":{\"id\":\"1003\",\"type\":\"DataRange1d\"},\"x_scale\":{\"id\":\"1007\",\"type\":\"LinearScale\"},\"y_range\":{\"id\":\"1005\",\"type\":\"DataRange1d\"},\"y_scale\":{\"id\":\"1009\",\"type\":\"LinearScale\"}},\"id\":\"1002\",\"subtype\":\"Figure\",\"type\":\"Plot\"},{\"attributes\":{\"plot\":null,\"text\":\"\"},\"id\":\"1041\",\"type\":\"Title\"},{\"attributes\":{},\"id\":\"1021\",\"type\":\"PanTool\"},{\"attributes\":{},\"id\":\"1022\",\"type\":\"WheelZoomTool\"},{\"attributes\":{\"overlay\":{\"id\":\"1029\",\"type\":\"BoxAnnotation\"}},\"id\":\"1023\",\"type\":\"BoxZoomTool\"},{\"attributes\":{},\"id\":\"1024\",\"type\":\"SaveTool\"},{\"attributes\":{},\"id\":\"1025\",\"type\":\"ResetTool\"},{\"attributes\":{},\"id\":\"1045\",\"type\":\"BasicTickFormatter\"},{\"attributes\":{\"callback\":null,\"data\":{\"x\":{\"__ndarray__\":\"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\",\"dtype\":\"float64\",\"shape\":[1000]},\"y\":{\"__ndarray__\":\"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\",\"dtype\":\"float64\",\"shape\":[1000]}},\"selected\":{\"id\":\"1048\",\"type\":\"Selection\"},\"selection_policy\":{\"id\":\"1049\",\"type\":\"UnionRenderers\"}},\"id\":\"1036\",\"type\":\"ColumnDataSource\"},{\"attributes\":{},\"id\":\"1026\",\"type\":\"HelpTool\"},{\"attributes\":{\"line_alpha\":0.1,\"line_color\":\"#1f77b4\",\"x\":{\"field\":\"x\"},\"y\":{\"field\":\"y\"}},\"id\":\"1038\",\"type\":\"Line\"},{\"attributes\":{\"callback\":null},\"id\":\"1003\",\"type\":\"DataRange1d\"},{\"attributes\":{\"active_drag\":\"auto\",\"active_inspect\":\"auto\",\"active_multi\":null,\"active_scroll\":\"auto\",\"active_tap\":\"auto\",\"tools\":[{\"id\":\"1021\",\"type\":\"PanTool\"},{\"id\":\"1022\",\"type\":\"WheelZoomTool\"},{\"id\":\"1023\",\"type\":\"BoxZoomTool\"},{\"id\":\"1024\",\"type\":\"SaveTool\"},{\"id\":\"1025\",\"type\":\"ResetTool\"},{\"id\":\"1026\",\"type\":\"HelpTool\"}]},\"id\":\"1027\",\"type\":\"Toolbar\"},{\"attributes\":{\"callback\":null},\"id\":\"1005\",\"type\":\"DataRange1d\"},{\"attributes\":{},\"id\":\"1048\",\"type\":\"Selection\"},{\"attributes\":{},\"id\":\"1007\",\"type\":\"LinearScale\"},{\"attributes\":{\"bottom_units\":\"screen\",\"fill_alpha\":{\"value\":0.5},\"fill_color\":{\"value\":\"lightgrey\"},\"left_units\":\"screen\",\"level\":\"overlay\",\"line_alpha\":{\"value\":1.0},\"line_color\":{\"value\":\"black\"},\"line_dash\":[4,4],\"line_width\":{\"value\":2},\"plot\":null,\"render_mode\":\"css\",\"right_units\":\"screen\",\"top_units\":\"screen\"},\"id\":\"1029\",\"type\":\"BoxAnnotation\"},{\"attributes\":{},\"id\":\"1009\",\"type\":\"LinearScale\"},{\"attributes\":{\"source\":{\"id\":\"1036\",\"type\":\"ColumnDataSource\"}},\"id\":\"1040\",\"type\":\"CDSView\"},{\"attributes\":{\"formatter\":{\"id\":\"1045\",\"type\":\"BasicTickFormatter\"},\"plot\":{\"id\":\"1002\",\"subtype\":\"Figure\",\"type\":\"Plot\"},\"ticker\":{\"id\":\"1012\",\"type\":\"BasicTicker\"}},\"id\":\"1011\",\"type\":\"LinearAxis\"},{\"attributes\":{},\"id\":\"1012\",\"type\":\"BasicTicker\"},{\"attributes\":{},\"id\":\"1043\",\"type\":\"BasicTickFormatter\"},{\"attributes\":{\"plot\":{\"id\":\"1002\",\"subtype\":\"Figure\",\"type\":\"Plot\"},\"ticker\":{\"id\":\"1012\",\"type\":\"BasicTicker\"}},\"id\":\"1015\",\"type\":\"Grid\"},{\"attributes\":{\"formatter\":{\"id\":\"1043\",\"type\":\"BasicTickFormatter\"},\"plot\":{\"id\":\"1002\",\"subtype\":\"Figure\",\"type\":\"Plot\"},\"ticker\":{\"id\":\"1017\",\"type\":\"BasicTicker\"}},\"id\":\"1016\",\"type\":\"LinearAxis\"},{\"attributes\":{},\"id\":\"1049\",\"type\":\"UnionRenderers\"},{\"attributes\":{},\"id\":\"1017\",\"type\":\"BasicTicker\"},{\"attributes\":{\"dimension\":1,\"plot\":{\"id\":\"1002\",\"subtype\":\"Figure\",\"type\":\"Plot\"},\"ticker\":{\"id\":\"1017\",\"type\":\"BasicTicker\"}},\"id\":\"1020\",\"type\":\"Grid\"},{\"attributes\":{\"line_color\":\"#000000\",\"x\":{\"field\":\"x\"},\"y\":{\"field\":\"y\"}},\"id\":\"1037\",\"type\":\"Line\"},{\"attributes\":{\"data_source\":{\"id\":\"1036\",\"type\":\"ColumnDataSource\"},\"glyph\":{\"id\":\"1037\",\"type\":\"Line\"},\"hover_glyph\":null,\"muted_glyph\":null,\"nonselection_glyph\":{\"id\":\"1038\",\"type\":\"Line\"},\"selection_glyph\":null,\"view\":{\"id\":\"1040\",\"type\":\"CDSView\"}},\"id\":\"1039\",\"type\":\"GlyphRenderer\"}],\"root_ids\":[\"1002\"]},\"title\":\"Bokeh Application\",\"version\":\"1.0.2\"}};\n",
       "  var render_items = [{\"docid\":\"44eafd4f-763d-4804-82e1-427f0e146933\",\"roots\":{\"1002\":\"40c14ac7-c893-4637-b2e4-bf1b75e05aec\"}}];\n",
       "  root.Bokeh.embed.embed_items_notebook(docs_json, render_items);\n",
       "\n",
       "  }\n",
       "  if (root.Bokeh !== undefined) {\n",
       "    embed_document(root);\n",
       "  } else {\n",
       "    var attempts = 0;\n",
       "    var timer = setInterval(function(root) {\n",
       "      if (root.Bokeh !== undefined) {\n",
       "        embed_document(root);\n",
       "        clearInterval(timer);\n",
       "      }\n",
       "      attempts++;\n",
       "      if (attempts > 100) {\n",
       "        console.log(\"Bokeh: ERROR: Unable to run BokehJS code because BokehJS library is missing\");\n",
       "        clearInterval(timer);\n",
       "      }\n",
       "    }, 10, root)\n",
       "  }\n",
       "})(window);"
      ],
      "application/vnd.bokehjs_exec.v0+json": ""
     },
     "metadata": {
      "application/vnd.bokehjs_exec.v0+json": {
       "id": "1002"
      }
     },
     "output_type": "display_data"
    }
   ],
   "source": [
    "x = np.linspace(-1,1, 1000)\n",
    "y = np.sin(1./x)\n",
    "\n",
    "p = figure()\n",
    "\n",
    "p.line(x, y, color=\"#000000\")\n",
    "\n",
    "show(p)"
   ]
  },
  {
   "cell_type": "markdown",
   "metadata": {},
   "source": [
    "# Scatter-type plots"
   ]
  },
  {
   "cell_type": "code",
   "execution_count": 4,
   "metadata": {},
   "outputs": [],
   "source": [
    "from sklearn.linear_model import LinearRegression\n",
    "from bokeh.plotting import ColumnDataSource"
   ]
  },
  {
   "cell_type": "code",
   "execution_count": 5,
   "metadata": {},
   "outputs": [],
   "source": [
    "def model(x):\n",
    "    return 2 * x * np.log(x + 1) + 0.5\n",
    "\n",
    "data_size = 50\n",
    "x = np.linspace(0, 1, data_size)\n",
    "y = model(x) + np.random.randn(data_size) / 15\n",
    "\n",
    "reg = LinearRegression().fit(x.reshape(-1,1), y)\n",
    "y_predict = reg.predict(x.reshape(-1,1))"
   ]
  },
  {
   "cell_type": "code",
   "execution_count": 12,
   "metadata": {},
   "outputs": [
    {
     "data": {
      "text/plain": [
       "array([1.40869546])"
      ]
     },
     "execution_count": 12,
     "metadata": {},
     "output_type": "execute_result"
    }
   ],
   "source": [
    "reg.coef_"
   ]
  },
  {
   "cell_type": "code",
   "execution_count": 15,
   "metadata": {},
   "outputs": [
    {
     "data": {
      "text/html": [
       "\n",
       "\n",
       "\n",
       "\n",
       "\n",
       "\n",
       "  <div class=\"bk-root\" id=\"a5fde2bd-863b-4f91-8c89-de6f71c897fa\"></div>\n"
      ]
     },
     "metadata": {},
     "output_type": "display_data"
    },
    {
     "data": {
      "application/javascript": [
       "(function(root) {\n",
       "  function embed_document(root) {\n",
       "    \n",
       "  var docs_json = {\"b81d5d3e-f1ed-4206-9748-b24bb65754be\":{\"roots\":{\"references\":[{\"attributes\":{\"below\":[{\"id\":\"1592\",\"type\":\"LinearAxis\"}],\"left\":[{\"id\":\"1597\",\"type\":\"LinearAxis\"}],\"renderers\":[{\"id\":\"1592\",\"type\":\"LinearAxis\"},{\"id\":\"1596\",\"type\":\"Grid\"},{\"id\":\"1597\",\"type\":\"LinearAxis\"},{\"id\":\"1601\",\"type\":\"Grid\"},{\"id\":\"1606\",\"type\":\"BoxAnnotation\"},{\"id\":\"1609\",\"type\":\"PolyAnnotation\"},{\"id\":\"1626\",\"type\":\"Legend\"},{\"id\":\"1616\",\"type\":\"GlyphRenderer\"},{\"id\":\"1631\",\"type\":\"GlyphRenderer\"}],\"title\":{\"id\":\"1618\",\"type\":\"Title\"},\"toolbar\":{\"id\":\"1605\",\"type\":\"Toolbar\"},\"x_range\":{\"id\":\"1584\",\"type\":\"DataRange1d\"},\"x_scale\":{\"id\":\"1588\",\"type\":\"LinearScale\"},\"y_range\":{\"id\":\"1586\",\"type\":\"DataRange1d\"},\"y_scale\":{\"id\":\"1590\",\"type\":\"LinearScale\"}},\"id\":\"1583\",\"subtype\":\"Figure\",\"type\":\"Plot\"},{\"attributes\":{\"fill_color\":{\"value\":\"#1f77b4\"},\"line_color\":{\"value\":\"#1f77b4\"},\"size\":{\"units\":\"screen\",\"value\":10},\"x\":{\"field\":\"x\"},\"y\":{\"field\":\"y\"}},\"id\":\"1614\",\"type\":\"Circle\"},{\"attributes\":{\"callback\":null,\"overlay\":{\"id\":\"1609\",\"type\":\"PolyAnnotation\"}},\"id\":\"1604\",\"type\":\"LassoSelectTool\"},{\"attributes\":{\"fill_alpha\":{\"value\":0.1},\"fill_color\":{\"value\":\"#1f77b4\"},\"line_alpha\":{\"value\":0.1},\"line_color\":{\"value\":\"#1f77b4\"},\"size\":{\"units\":\"screen\",\"value\":10},\"x\":{\"field\":\"x\"},\"y\":{\"field\":\"y\"}},\"id\":\"1615\",\"type\":\"Circle\"},{\"attributes\":{\"active_drag\":\"auto\",\"active_inspect\":\"auto\",\"active_multi\":null,\"active_scroll\":\"auto\",\"active_tap\":\"auto\",\"tools\":[{\"id\":\"1602\",\"type\":\"HoverTool\"},{\"id\":\"1603\",\"type\":\"BoxSelectTool\"},{\"id\":\"1604\",\"type\":\"LassoSelectTool\"}]},\"id\":\"1605\",\"type\":\"Toolbar\"},{\"attributes\":{\"callback\":null,\"tooltips\":[[\"X\",\"@x\"],[\"Y\",\"@y\"],[\"Yhat\",\"@predict\"],[\"error\",\"@err\"]]},\"id\":\"1602\",\"type\":\"HoverTool\"},{\"attributes\":{\"bottom_units\":\"screen\",\"fill_alpha\":{\"value\":0.5},\"fill_color\":{\"value\":\"lightgrey\"},\"left_units\":\"screen\",\"level\":\"overlay\",\"line_alpha\":{\"value\":1.0},\"line_color\":{\"value\":\"black\"},\"line_dash\":[4,4],\"line_width\":{\"value\":2},\"plot\":null,\"render_mode\":\"css\",\"right_units\":\"screen\",\"top_units\":\"screen\"},\"id\":\"1606\",\"type\":\"BoxAnnotation\"},{\"attributes\":{},\"id\":\"1598\",\"type\":\"BasicTicker\"},{\"attributes\":{},\"id\":\"1622\",\"type\":\"BasicTickFormatter\"},{\"attributes\":{\"fill_alpha\":{\"value\":0.5},\"fill_color\":{\"value\":\"lightgrey\"},\"level\":\"overlay\",\"line_alpha\":{\"value\":1.0},\"line_color\":{\"value\":\"black\"},\"line_dash\":[4,4],\"line_width\":{\"value\":2},\"plot\":null,\"xs_units\":\"screen\",\"ys_units\":\"screen\"},\"id\":\"1609\",\"type\":\"PolyAnnotation\"},{\"attributes\":{\"data_source\":{\"id\":\"1582\",\"type\":\"ColumnDataSource\"},\"glyph\":{\"id\":\"1614\",\"type\":\"Circle\"},\"hover_glyph\":null,\"muted_glyph\":null,\"nonselection_glyph\":{\"id\":\"1615\",\"type\":\"Circle\"},\"selection_glyph\":null,\"view\":{\"id\":\"1617\",\"type\":\"CDSView\"}},\"id\":\"1616\",\"type\":\"GlyphRenderer\"},{\"attributes\":{\"formatter\":{\"id\":\"1622\",\"type\":\"BasicTickFormatter\"},\"plot\":{\"id\":\"1583\",\"subtype\":\"Figure\",\"type\":\"Plot\"},\"ticker\":{\"id\":\"1593\",\"type\":\"BasicTicker\"}},\"id\":\"1592\",\"type\":\"LinearAxis\"},{\"attributes\":{\"source\":{\"id\":\"1582\",\"type\":\"ColumnDataSource\"}},\"id\":\"1617\",\"type\":\"CDSView\"},{\"attributes\":{\"plot\":null,\"text\":\"\"},\"id\":\"1618\",\"type\":\"Title\"},{\"attributes\":{},\"id\":\"1593\",\"type\":\"BasicTicker\"},{\"attributes\":{},\"id\":\"1620\",\"type\":\"BasicTickFormatter\"},{\"attributes\":{\"plot\":{\"id\":\"1583\",\"subtype\":\"Figure\",\"type\":\"Plot\"},\"ticker\":{\"id\":\"1593\",\"type\":\"BasicTicker\"}},\"id\":\"1596\",\"type\":\"Grid\"},{\"attributes\":{\"formatter\":{\"id\":\"1620\",\"type\":\"BasicTickFormatter\"},\"plot\":{\"id\":\"1583\",\"subtype\":\"Figure\",\"type\":\"Plot\"},\"ticker\":{\"id\":\"1598\",\"type\":\"BasicTicker\"}},\"id\":\"1597\",\"type\":\"LinearAxis\"},{\"attributes\":{\"items\":[{\"id\":\"1627\",\"type\":\"LegendItem\"},{\"id\":\"1643\",\"type\":\"LegendItem\"}],\"plot\":{\"id\":\"1583\",\"subtype\":\"Figure\",\"type\":\"Plot\"}},\"id\":\"1626\",\"type\":\"Legend\"},{\"attributes\":{\"label\":{\"value\":\"Data\"},\"renderers\":[{\"id\":\"1616\",\"type\":\"GlyphRenderer\"}]},\"id\":\"1627\",\"type\":\"LegendItem\"},{\"attributes\":{},\"id\":\"1590\",\"type\":\"LinearScale\"},{\"attributes\":{\"label\":{\"value\":\"Y = 0.28 + 1.4 * X\"},\"renderers\":[{\"id\":\"1631\",\"type\":\"GlyphRenderer\"}]},\"id\":\"1643\",\"type\":\"LegendItem\"},{\"attributes\":{},\"id\":\"1588\",\"type\":\"LinearScale\"},{\"attributes\":{\"line_color\":\"red\",\"line_dash\":[6],\"x\":{\"field\":\"x\"},\"y\":{\"field\":\"predict\"}},\"id\":\"1629\",\"type\":\"Line\"},{\"attributes\":{\"callback\":null},\"id\":\"1586\",\"type\":\"DataRange1d\"},{\"attributes\":{\"line_alpha\":0.1,\"line_color\":\"#1f77b4\",\"line_dash\":[6],\"x\":{\"field\":\"x\"},\"y\":{\"field\":\"predict\"}},\"id\":\"1630\",\"type\":\"Line\"},{\"attributes\":{\"callback\":null},\"id\":\"1584\",\"type\":\"DataRange1d\"},{\"attributes\":{\"data_source\":{\"id\":\"1582\",\"type\":\"ColumnDataSource\"},\"glyph\":{\"id\":\"1629\",\"type\":\"Line\"},\"hover_glyph\":null,\"muted_glyph\":null,\"nonselection_glyph\":{\"id\":\"1630\",\"type\":\"Line\"},\"selection_glyph\":null,\"view\":{\"id\":\"1632\",\"type\":\"CDSView\"}},\"id\":\"1631\",\"type\":\"GlyphRenderer\"},{\"attributes\":{\"source\":{\"id\":\"1582\",\"type\":\"ColumnDataSource\"}},\"id\":\"1632\",\"type\":\"CDSView\"},{\"attributes\":{\"dimension\":1,\"plot\":{\"id\":\"1583\",\"subtype\":\"Figure\",\"type\":\"Plot\"},\"ticker\":{\"id\":\"1598\",\"type\":\"BasicTicker\"}},\"id\":\"1601\",\"type\":\"Grid\"},{\"attributes\":{\"callback\":null,\"data\":{\"err\":{\"__ndarray__\":\"FGXBNcIM1T+ca8ysrXS3P0yswGTLBbg/6GwAzua7xz84Fzy/wrmnP1LcSd1rKMM/wEWRRcaTjj/g+/QOhi+bPxhEdGPqgLc/LPxj/7IjwD8wM0YMzHa0PwDx5T/Fd4q/gDE/rq13rb9AfNqgqcG8v5SSEqYgZ8K/LJBf4IiLxL/AnojO3Ku2vwiPZggdfsO/3KsA4W44xr8gbmCwpj+Vv5Bx2WfE/aA/ePMMi1nitL9ok2MNovK/v/BNrIfiQbq/IKloTgGtsb+oi+wkZwi7v1jU5zBI3Le/eKvGGTeCt78wc1/+Z/+7v+Cxo/Azyby/yC4OYpxnxL9Qon6/WRS9vwBowG0zEYU/EL8pFnSzu7+QGBZPDZOxv3DvnZFoqri/gFrMce0viz8ADdHhCFp8vwhfVi0sFcY/AGjGPRbclj9gRGCYVCGlv4DtnO45Gaq/QBBmCLhetT9gChJyDqG4P3D811UoeLU/oDrdh61byD9Avv39O+GtP9C/HyO70cc/MANQkd7ExD+QreW3cV+8Pw==\",\"dtype\":\"float64\",\"shape\":[50]},\"predict\":{\"__ndarray__\":\"CAF4n9v60T8EZcIx4dHTPwDJDMTmqNU//CxXVux/1z/3kKHo8VbZP/P063r3Lds/71g2Df0E3T/qvICfAtzeP3OQ5RiEWeA/ccIK4gZF4T9v9C+riTDiP2wmVXQMHOM/a1h6PY8H5D9oip8GEvPkP2a8xM+U3uU/ZO7pmBfK5j9iIA9imrXnP2BSNCsdoeg/XoRZ9J+M6T9ctn69InjqP1roo4alY+s/WBrJTyhP7D9VTO4YqzrtP1R+E+ItJu4/UrA4q7AR7z9Q4l10M/3vPyaKwR5bdPA/JiNUgxzq8D8kvObn3V/xPyRVeUyf1fE/Iu4LsWBL8j8ih54VIsHyPyAgMXrjNvM/ILnD3qSs8z8eUlZDZiL0Px3r6KcnmPQ/HIR7DOkN9T8bHQ5xqoP1Pxq2oNVr+fU/GU8zOi1v9j8Y6MWe7uT2PxeBWAOwWvc/FhrrZ3HQ9z8Vs33MMkb4PxNMEDH0u/g/E+WilbUx+T8SfjX6dqf5PxEXyF44Hfo/ELBaw/mS+j8PSe0nuwj7Pw==\",\"dtype\":\"float64\",\"shape\":[50]},\"x\":{\"__ndarray__\":\"AAAAAAAAAAA5BS+n4OWUPzkFL6fg5aQ/1ofG+tBYrz85BS+n4OW0P4fG+tBYH7o/1ofG+tBYvz+SJEmSJEnCPzkFL6fg5cQ/4OUUvJyCxz+HxvrQWB/KPy6n4OUUvMw/1ofG+tBYzz8+NNaHxvrQP5IkSZIkSdI/5RS8nIKX0z85BS+n4OXUP431obE+NNY/4OUUvJyC1z801ofG+tDYP4fG+tBYH9o/27Zt27Zt2z8up+DlFLzcP4KXU/ByCt4/1ofG+tBY3z8VvJyCl1PgPz401ofG+uA/aKwPjfWh4T+SJEmSJEniP7ycgpdT8OI/5RS8nIKX4z8PjfWhsT7kPzkFL6fg5eQ/Y31orA+N5T+N9aGxPjTmP7Zt27Zt2+Y/4OUUvJyC5z8KXk7ByynoPzTWh8b60Og/XU7Byyl46T+HxvrQWB/qP7E+NNaHxuo/27Zt27Zt6z8FL6fg5RTsPy6n4OUUvOw/WB8a60Nj7T+Cl1PwcgruP6wPjfWhse4/1ofG+tBY7z8AAAAAAADwPw==\",\"dtype\":\"float64\",\"shape\":[50]},\"y\":{\"__ndarray__\":\"DrOc6s6D4z/rf/WcDK/ZPxP0PJ1Zqts/uLGr3u+u4T/eE4lAKk7cP45xyLQWYeI/HeNiP5v53T9UBjiAfUfgP/YYVGWhSeM/fMHjofNN5T/VurgsY7/kP6iOVV8tsuI/U2WWYhQw4j/gOoTS3FrhP8EXQKbMROE/WQrSYDWn4T+KDD7IHuDkP56uGumVweM/Z1kZPIT+4z/rsvuHJc7pP3N/Ic2Bc+w/6XtnHt2y6T/o2UHXVjzpP5b0HZHx3eo/LptrgRDc7D/bUMCPJpzsP8EZZjct7e0/3XBvI/Lj7j/iiQHQzj/vPwYabw0MCfA/klCUSdp87z/9nKZ53O/wP/CgDOEFYfM/Lx1hnW3x8T+V8GRuNQnzPyYMzx6BDfM/0Rxf50hE9T8OTCxoUGf1P/uBS1sRvPg/uWgqk53K9j/15QL64zv2P6uZ4zPmifY/Gntx6Fwm+T+7056zQ9D5P9rLbbZ2E/o/Z4yeRis9/D8EbCXagJb6PwsPLMNvF/0/drCElZUr/T/oo2tDss78Pw==\",\"dtype\":\"float64\",\"shape\":[50]}},\"selected\":{\"id\":\"1641\",\"type\":\"Selection\"},\"selection_policy\":{\"id\":\"1642\",\"type\":\"UnionRenderers\"}},\"id\":\"1582\",\"type\":\"ColumnDataSource\"},{\"attributes\":{},\"id\":\"1641\",\"type\":\"Selection\"},{\"attributes\":{\"callback\":null,\"overlay\":{\"id\":\"1606\",\"type\":\"BoxAnnotation\"}},\"id\":\"1603\",\"type\":\"BoxSelectTool\"},{\"attributes\":{},\"id\":\"1642\",\"type\":\"UnionRenderers\"}],\"root_ids\":[\"1583\"]},\"title\":\"Bokeh Application\",\"version\":\"1.0.2\"}};\n",
       "  var render_items = [{\"docid\":\"b81d5d3e-f1ed-4206-9748-b24bb65754be\",\"roots\":{\"1583\":\"a5fde2bd-863b-4f91-8c89-de6f71c897fa\"}}];\n",
       "  root.Bokeh.embed.embed_items_notebook(docs_json, render_items);\n",
       "\n",
       "  }\n",
       "  if (root.Bokeh !== undefined) {\n",
       "    embed_document(root);\n",
       "  } else {\n",
       "    var attempts = 0;\n",
       "    var timer = setInterval(function(root) {\n",
       "      if (root.Bokeh !== undefined) {\n",
       "        embed_document(root);\n",
       "        clearInterval(timer);\n",
       "      }\n",
       "      attempts++;\n",
       "      if (attempts > 100) {\n",
       "        console.log(\"Bokeh: ERROR: Unable to run BokehJS code because BokehJS library is missing\");\n",
       "        clearInterval(timer);\n",
       "      }\n",
       "    }, 10, root)\n",
       "  }\n",
       "})(window);"
      ],
      "application/vnd.bokehjs_exec.v0+json": ""
     },
     "metadata": {
      "application/vnd.bokehjs_exec.v0+json": {
       "id": "1583"
      }
     },
     "output_type": "display_data"
    }
   ],
   "source": [
    "data = ColumnDataSource(dict(x=x, y=y, predict=y_predict, err=y - y_predict))\n",
    "\n",
    "tooltips = [\n",
    "    (\"X\", \"@x\"), # @x finds the dictionary entry values for x in the ColumnDataSource\n",
    "    (\"Y\", \"@y\"),  # $y would simply print the mouse y value\n",
    "    (\"Yhat\", \"@predict\"),\n",
    "    (\"error\", \"@err\")\n",
    "]\n",
    "\n",
    "p = figure(tools='hover,box_select,lasso_select', tooltips=tooltips)\n",
    "p.circle('x', 'y', size=10, source=data, legend=\"Data\")\n",
    "p.line('x', 'predict', source=data, line_color='red', line_dash='dashed', legend=f\"Y = {reg.intercept_:0.2} + {reg.coef_[0]:0.2} * X\")\n",
    "show(p)"
   ]
  },
  {
   "cell_type": "code",
   "execution_count": 61,
   "metadata": {},
   "outputs": [],
   "source": [
    "from bokeh.driving import linear"
   ]
  },
  {
   "cell_type": "code",
   "execution_count": 20,
   "metadata": {},
   "outputs": [],
   "source": [
    "def rvsample_generator(rv_generator):\n",
    "    rv = rv_generator()\n",
    "    mean = rv\n",
    "    count = 1\n",
    "    while True:\n",
    "        yield (rv, mean)\n",
    "        count += 1\n",
    "        rv = rv_generator()\n",
    "        mean = (count - 1) / count * mean + rv / count"
   ]
  },
  {
   "cell_type": "code",
   "execution_count": 24,
   "metadata": {},
   "outputs": [
    {
     "name": "stdout",
     "output_type": "stream",
     "text": [
      "(0.9361491138472191, 0.497105730870554)\n"
     ]
    }
   ],
   "source": [
    "uniform_generator = rvsample_generator(np.random.rand)\n",
    "for i in range(10000):\n",
    "    next(uniform_generator)\n",
    "print(next(uniform_generator))"
   ]
  },
  {
   "cell_type": "code",
   "execution_count": null,
   "metadata": {},
   "outputs": [],
   "source": []
  }
 ],
 "metadata": {
  "kernelspec": {
   "display_name": "Python 3",
   "language": "python",
   "name": "python3"
  },
  "language_info": {
   "codemirror_mode": {
    "name": "ipython",
    "version": 3
   },
   "file_extension": ".py",
   "mimetype": "text/x-python",
   "name": "python",
   "nbconvert_exporter": "python",
   "pygments_lexer": "ipython3",
   "version": "3.7.1"
  }
 },
 "nbformat": 4,
 "nbformat_minor": 2
}
